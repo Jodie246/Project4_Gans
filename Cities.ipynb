{
 "cells": [
  {
   "cell_type": "code",
   "execution_count": 9,
   "id": "38293e56-fc2b-425d-9754-4132a980e49f",
   "metadata": {},
   "outputs": [],
   "source": [
    "#import libraries\n",
    "from bs4 import BeautifulSoup as bs\n",
    "import pandas as pd\n",
    "import requests\n",
    "import json\n",
    "import datetime \n",
    "import sqlalchemy\n",
    "import random\n",
    "import numpy as np\n",
    "\n",
    "#City\n",
    "#create function\n",
    "def get_city(cities):\n",
    "    #create the dataframe\n",
    "    city = pd.DataFrame(columns=[\"city_id\", \"city_name\", \"country\"])\n",
    "    \n",
    "    \n",
    "    #create a for loop to estract the required information for each city\n",
    "    for city_url in cities:\n",
    "        r = requests.get(city_url)\n",
    "        soup = bs(r.content, 'html.parser')\n",
    "        city_name = soup.find(\"span\", class_=\"mw-page-title-main\").string\n",
    "        country = soup.find(\"td\", class_=\"infobox-data\").string\n",
    "\n",
    "\n",
    "        city_to_append = pd.DataFrame({\n",
    "            \"city_name\": [city_name],\n",
    "            \"country\": [country]\n",
    "        })\n",
    "        city = pd.concat([city, city_to_append], ignore_index=True)\n",
    "        \n",
    "        \n",
    "        #create a unique id for each city  \n",
    "        city['city_id'] = city['city_name'].map({'Berlin': 1, 'Manchester': 2, 'Barcelona': 3})\n",
    "    \n",
    "    #update the data format\n",
    "    city['city_id'] = pd.to_numeric(city['city_id'])\n",
    "    \n",
    "    \n",
    "    return city\n",
    "\n",
    "#urls for each city wikipedia\n",
    "cities = [\n",
    "    \"https://en.wikipedia.org/wiki/Berlin\",\n",
    "    \"https://en.wikipedia.org/wiki/Manchester\",\n",
    "    \"https://en.wikipedia.org/wiki/Barcelona\"\n",
    "]\n",
    "\n",
    "#assign the function to the city dataframe\n",
    "city = get_city(cities)\n",
    "    "
   ]
  },
  {
   "cell_type": "code",
   "execution_count": 10,
   "id": "d8d3be0a-c971-4005-843f-0faafa0fe1e0",
   "metadata": {},
   "outputs": [
    {
     "data": {
      "text/html": [
       "<div>\n",
       "<style scoped>\n",
       "    .dataframe tbody tr th:only-of-type {\n",
       "        vertical-align: middle;\n",
       "    }\n",
       "\n",
       "    .dataframe tbody tr th {\n",
       "        vertical-align: top;\n",
       "    }\n",
       "\n",
       "    .dataframe thead th {\n",
       "        text-align: right;\n",
       "    }\n",
       "</style>\n",
       "<table border=\"1\" class=\"dataframe\">\n",
       "  <thead>\n",
       "    <tr style=\"text-align: right;\">\n",
       "      <th></th>\n",
       "      <th>city_id</th>\n",
       "      <th>city_name</th>\n",
       "      <th>country</th>\n",
       "    </tr>\n",
       "  </thead>\n",
       "  <tbody>\n",
       "    <tr>\n",
       "      <th>0</th>\n",
       "      <td>1</td>\n",
       "      <td>Berlin</td>\n",
       "      <td>Germany</td>\n",
       "    </tr>\n",
       "    <tr>\n",
       "      <th>1</th>\n",
       "      <td>2</td>\n",
       "      <td>Manchester</td>\n",
       "      <td>United Kingdom</td>\n",
       "    </tr>\n",
       "    <tr>\n",
       "      <th>2</th>\n",
       "      <td>3</td>\n",
       "      <td>Barcelona</td>\n",
       "      <td>Spain</td>\n",
       "    </tr>\n",
       "  </tbody>\n",
       "</table>\n",
       "</div>"
      ],
      "text/plain": [
       "   city_id   city_name         country\n",
       "0        1      Berlin         Germany\n",
       "1        2  Manchester  United Kingdom\n",
       "2        3   Barcelona           Spain"
      ]
     },
     "execution_count": 10,
     "metadata": {},
     "output_type": "execute_result"
    }
   ],
   "source": [
    "#assign the function to the city dataframe\n",
    "city = get_city(cities)\n",
    "city"
   ]
  },
  {
   "cell_type": "code",
   "execution_count": 4,
   "id": "cba919ae-c0ff-4489-90f0-9e369371ac3c",
   "metadata": {},
   "outputs": [],
   "source": [
    "#create connection to MySQL\n",
    "schema=\"gans\"\n",
    "host=\"127.0.0.1\"\n",
    "user=\"root\"\n",
    "password=\"LexiHarley0323\"\n",
    "port=3306\n",
    "con = f'mysql+pymysql://{user}:{password}@{host}:{port}/{schema}'"
   ]
  },
  {
   "cell_type": "code",
   "execution_count": 5,
   "id": "a4a206b8-8d51-4ad5-b8db-f0af96c3962e",
   "metadata": {},
   "outputs": [
    {
     "data": {
      "text/plain": [
       "5"
      ]
     },
     "execution_count": 5,
     "metadata": {},
     "output_type": "execute_result"
    }
   ],
   "source": [
    "#create city table in MySQL\n",
    "city.to_sql('city', \n",
    "              if_exists='append', \n",
    "              con=con, \n",
    "              index=False)"
   ]
  },
  {
   "cell_type": "code",
   "execution_count": null,
   "id": "d59a3f64-8c7e-4c92-9530-b492465983ab",
   "metadata": {},
   "outputs": [],
   "source": []
  },
  {
   "cell_type": "code",
   "execution_count": null,
   "id": "29defdd8-a5e8-48b3-9591-c9cdedc37b5a",
   "metadata": {},
   "outputs": [],
   "source": []
  }
 ],
 "metadata": {
  "kernelspec": {
   "display_name": "Python 3 (ipykernel)",
   "language": "python",
   "name": "python3"
  },
  "language_info": {
   "codemirror_mode": {
    "name": "ipython",
    "version": 3
   },
   "file_extension": ".py",
   "mimetype": "text/x-python",
   "name": "python",
   "nbconvert_exporter": "python",
   "pygments_lexer": "ipython3",
   "version": "3.9.13"
  }
 },
 "nbformat": 4,
 "nbformat_minor": 5
}
