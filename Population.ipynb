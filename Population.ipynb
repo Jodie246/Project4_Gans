{
 "cells": [
  {
   "cell_type": "code",
   "execution_count": 1,
   "id": "9126dd6d-ea18-4afa-80d7-781462360b6b",
   "metadata": {},
   "outputs": [],
   "source": [
    "#import libraries\n",
    "from bs4 import BeautifulSoup as bs\n",
    "import pandas as pd\n",
    "import re\n",
    "import requests\n",
    "import json\n",
    "import datetime \n",
    "import sqlalchemy\n",
    "import random\n",
    "import numpy as np"
   ]
  },
  {
   "cell_type": "code",
   "execution_count": 4,
   "id": "616b5beb-0e37-4453-9bc4-5b1f3e0d55c3",
   "metadata": {},
   "outputs": [],
   "source": [
    "#create function\n",
    "def get_population(cities):\n",
    "           \n",
    "    #create the dataframe\n",
    "    headers = [\"city_id\", \"city_name\", \"population\"]\n",
    "    population = pd.DataFrame(columns=headers)\n",
    "    \n",
    "    \n",
    "    #create a for loop to estract the required information for each city\n",
    "    for city_url in cities:\n",
    "        r = requests.get(city_url)\n",
    "        soup = bs(r.content, 'html.parser')\n",
    "        city_name = soup.find(\"span\", class_=\"mw-page-title-main\").string\n",
    "        pop = soup.select_one('th.infobox-header:-soup-contains(\"Population\")').parent.find_next_sibling().find(text=re.compile(r'\\d+'))\n",
    "    \n",
    "        #append the estracted data to the dataframe\n",
    "        population = population.append({\n",
    "            \"city_name\": city_name,\n",
    "            \"population\": pop\n",
    "        }, ignore_index=True)\n",
    "        \n",
    "        \n",
    "       #create a unique id for each city  \n",
    "        conditions = [\n",
    "            (population['city_name'] == 'Berlin'),\n",
    "            (population['city_name'] == 'Hamburg'),\n",
    "            (population['city_name'] == 'London'),\n",
    "            (population['city_name'] == 'Manchester'),\n",
    "            (population['city_name'] == 'Barcelona')\n",
    "        ]\n",
    "        values = [1, 2, 3,4,5]\n",
    "        population['city_id'] = np.select(conditions, values, default=None)\n",
    "        \n",
    "    #drop the city_name column    \n",
    "    population = population.drop(columns=['city_name'])\n",
    "    \n",
    "    return population\n",
    "\n",
    "    #urls for each city wikipedia\n",
    "cities = [\n",
    "    \"https://en.wikipedia.org/wiki/Berlin\",\n",
    "    \"https://en.wikipedia.org/wiki/Hamburg\",\n",
    "    \"https://en.wikipedia.org/wiki/London\",\n",
    "    \"https://en.wikipedia.org/wiki/Manchester\",\n",
    "    \"https://en.wikipedia.org/wiki/Barcelona\"\n",
    "]\n",
    "\n",
    "\n",
    "\n",
    "\n",
    "\n"
   ]
  },
  {
   "cell_type": "code",
   "execution_count": 5,
   "id": "96a8dfdd-194d-48f1-b8d7-d73e1348a6e6",
   "metadata": {},
   "outputs": [
    {
     "name": "stderr",
     "output_type": "stream",
     "text": [
      "C:\\Users\\JodieHorrocks\\AppData\\Local\\Temp\\ipykernel_9232\\171591471.py:14: DeprecationWarning: The 'text' argument to find()-type methods is deprecated. Use 'string' instead.\n",
      "  pop = soup.select_one('th.infobox-header:-soup-contains(\"Population\")').parent.find_next_sibling().find(text=re.compile(r'\\d+'))\n",
      "C:\\Users\\JodieHorrocks\\AppData\\Local\\Temp\\ipykernel_9232\\171591471.py:17: FutureWarning: The frame.append method is deprecated and will be removed from pandas in a future version. Use pandas.concat instead.\n",
      "  population = population.append({\n",
      "C:\\Users\\JodieHorrocks\\AppData\\Local\\Temp\\ipykernel_9232\\171591471.py:14: DeprecationWarning: The 'text' argument to find()-type methods is deprecated. Use 'string' instead.\n",
      "  pop = soup.select_one('th.infobox-header:-soup-contains(\"Population\")').parent.find_next_sibling().find(text=re.compile(r'\\d+'))\n",
      "C:\\Users\\JodieHorrocks\\AppData\\Local\\Temp\\ipykernel_9232\\171591471.py:17: FutureWarning: The frame.append method is deprecated and will be removed from pandas in a future version. Use pandas.concat instead.\n",
      "  population = population.append({\n",
      "C:\\Users\\JodieHorrocks\\AppData\\Local\\Temp\\ipykernel_9232\\171591471.py:14: DeprecationWarning: The 'text' argument to find()-type methods is deprecated. Use 'string' instead.\n",
      "  pop = soup.select_one('th.infobox-header:-soup-contains(\"Population\")').parent.find_next_sibling().find(text=re.compile(r'\\d+'))\n",
      "C:\\Users\\JodieHorrocks\\AppData\\Local\\Temp\\ipykernel_9232\\171591471.py:17: FutureWarning: The frame.append method is deprecated and will be removed from pandas in a future version. Use pandas.concat instead.\n",
      "  population = population.append({\n",
      "C:\\Users\\JodieHorrocks\\AppData\\Local\\Temp\\ipykernel_9232\\171591471.py:14: DeprecationWarning: The 'text' argument to find()-type methods is deprecated. Use 'string' instead.\n",
      "  pop = soup.select_one('th.infobox-header:-soup-contains(\"Population\")').parent.find_next_sibling().find(text=re.compile(r'\\d+'))\n",
      "C:\\Users\\JodieHorrocks\\AppData\\Local\\Temp\\ipykernel_9232\\171591471.py:17: FutureWarning: The frame.append method is deprecated and will be removed from pandas in a future version. Use pandas.concat instead.\n",
      "  population = population.append({\n",
      "C:\\Users\\JodieHorrocks\\AppData\\Local\\Temp\\ipykernel_9232\\171591471.py:14: DeprecationWarning: The 'text' argument to find()-type methods is deprecated. Use 'string' instead.\n",
      "  pop = soup.select_one('th.infobox-header:-soup-contains(\"Population\")').parent.find_next_sibling().find(text=re.compile(r'\\d+'))\n",
      "C:\\Users\\JodieHorrocks\\AppData\\Local\\Temp\\ipykernel_9232\\171591471.py:17: FutureWarning: The frame.append method is deprecated and will be removed from pandas in a future version. Use pandas.concat instead.\n",
      "  population = population.append({\n"
     ]
    },
    {
     "data": {
      "text/html": [
       "<div>\n",
       "<style scoped>\n",
       "    .dataframe tbody tr th:only-of-type {\n",
       "        vertical-align: middle;\n",
       "    }\n",
       "\n",
       "    .dataframe tbody tr th {\n",
       "        vertical-align: top;\n",
       "    }\n",
       "\n",
       "    .dataframe thead th {\n",
       "        text-align: right;\n",
       "    }\n",
       "</style>\n",
       "<table border=\"1\" class=\"dataframe\">\n",
       "  <thead>\n",
       "    <tr style=\"text-align: right;\">\n",
       "      <th></th>\n",
       "      <th>city_id</th>\n",
       "      <th>population</th>\n",
       "    </tr>\n",
       "  </thead>\n",
       "  <tbody>\n",
       "    <tr>\n",
       "      <th>0</th>\n",
       "      <td>1</td>\n",
       "      <td>3,850,809</td>\n",
       "    </tr>\n",
       "    <tr>\n",
       "      <th>1</th>\n",
       "      <td>2</td>\n",
       "      <td>1,945,532</td>\n",
       "    </tr>\n",
       "    <tr>\n",
       "      <th>2</th>\n",
       "      <td>3</td>\n",
       "      <td>8,799,800</td>\n",
       "    </tr>\n",
       "    <tr>\n",
       "      <th>3</th>\n",
       "      <td>4</td>\n",
       "      <td>551,938</td>\n",
       "    </tr>\n",
       "    <tr>\n",
       "      <th>4</th>\n",
       "      <td>5</td>\n",
       "      <td>1,620,343</td>\n",
       "    </tr>\n",
       "  </tbody>\n",
       "</table>\n",
       "</div>"
      ],
      "text/plain": [
       "  city_id population\n",
       "0       1  3,850,809\n",
       "1       2  1,945,532\n",
       "2       3  8,799,800\n",
       "3       4    551,938\n",
       "4       5  1,620,343"
      ]
     },
     "execution_count": 5,
     "metadata": {},
     "output_type": "execute_result"
    }
   ],
   "source": [
    "#assign the function to the city_info dataframe\n",
    "population = get_population(cities)\n",
    "population"
   ]
  },
  {
   "cell_type": "code",
   "execution_count": 6,
   "id": "cba919ae-c0ff-4489-90f0-9e369371ac3c",
   "metadata": {},
   "outputs": [],
   "source": [
    "#create connection to MySQL\n",
    "schema=\"gans\"\n",
    "host=\"127.0.0.1\"\n",
    "user=\"root\"\n",
    "password=\"LexiHarley0323\"\n",
    "port=3306\n",
    "con = f'mysql+pymysql://{user}:{password}@{host}:{port}/{schema}'"
   ]
  },
  {
   "cell_type": "code",
   "execution_count": 7,
   "id": "a4a206b8-8d51-4ad5-b8db-f0af96c3962e",
   "metadata": {},
   "outputs": [
    {
     "data": {
      "text/plain": [
       "5"
      ]
     },
     "execution_count": 7,
     "metadata": {},
     "output_type": "execute_result"
    }
   ],
   "source": [
    "#create the population table in MySQL\n",
    "population.to_sql('population', \n",
    "              if_exists='append', \n",
    "              con=con, \n",
    "              index=False)"
   ]
  },
  {
   "cell_type": "code",
   "execution_count": null,
   "id": "e49427b7-54c7-4670-9372-ef53ddf280aa",
   "metadata": {},
   "outputs": [],
   "source": []
  }
 ],
 "metadata": {
  "kernelspec": {
   "display_name": "Python 3 (ipykernel)",
   "language": "python",
   "name": "python3"
  },
  "language_info": {
   "codemirror_mode": {
    "name": "ipython",
    "version": 3
   },
   "file_extension": ".py",
   "mimetype": "text/x-python",
   "name": "python",
   "nbconvert_exporter": "python",
   "pygments_lexer": "ipython3",
   "version": "3.9.13"
  }
 },
 "nbformat": 4,
 "nbformat_minor": 5
}
