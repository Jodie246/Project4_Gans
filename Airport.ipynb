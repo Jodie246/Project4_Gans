{
 "cells": [
  {
   "cell_type": "code",
   "execution_count": 1,
   "id": "74111610-b69f-45e6-9858-98acfcb58a3f",
   "metadata": {},
   "outputs": [],
   "source": [
    "#import libraries \n",
    "from bs4 import BeautifulSoup as bs\n",
    "import pandas as pd\n",
    "import requests\n",
    "import json\n",
    "import datetime \n",
    "import sqlalchemy\n",
    "import random\n",
    "import numpy as np"
   ]
  },
  {
   "cell_type": "code",
   "execution_count": 6,
   "id": "89a80ff0-9b09-441a-b4b2-dfc0ee4fb051",
   "metadata": {},
   "outputs": [],
   "source": [
    "#create dictionary with aiports, airport code and the unique id for each\n",
    "data = { 'city_id' : [3, 3, 3, 3, 3, 1, 2, 4,5],\n",
    "    'airport': [\n",
    "        'Heathrow',\n",
    "        'Gatwick',\n",
    "        'Luton',\n",
    "        'Stansted',\n",
    "        'Southend',\n",
    "        'Berlin Brandenburg Airport',\n",
    "        'Hamburg Airport',\n",
    "        'Manchester Airport',\n",
    "        'Barcelona'\n",
    "    ],\n",
    "    'airport icao': [\n",
    "        'EGLL',\n",
    "        'EGKK',\n",
    "        'EGGW',\n",
    "        'EGSS',\n",
    "        'EGMC',\n",
    "        'EDDB',\n",
    "        'EDDH',\n",
    "        'EGCC',\n",
    "        'LEBL'\n",
    "    ]\n",
    "}\n",
    "\n",
    "#assign dictionary to airports dataframe\n",
    "airports = pd.DataFrame(data)"
   ]
  },
  {
   "cell_type": "code",
   "execution_count": 7,
   "id": "3de5428d-8619-4b15-a51a-54e0a270b599",
   "metadata": {},
   "outputs": [
    {
     "data": {
      "text/html": [
       "<div>\n",
       "<style scoped>\n",
       "    .dataframe tbody tr th:only-of-type {\n",
       "        vertical-align: middle;\n",
       "    }\n",
       "\n",
       "    .dataframe tbody tr th {\n",
       "        vertical-align: top;\n",
       "    }\n",
       "\n",
       "    .dataframe thead th {\n",
       "        text-align: right;\n",
       "    }\n",
       "</style>\n",
       "<table border=\"1\" class=\"dataframe\">\n",
       "  <thead>\n",
       "    <tr style=\"text-align: right;\">\n",
       "      <th></th>\n",
       "      <th>city_id</th>\n",
       "      <th>airport</th>\n",
       "      <th>airport icao</th>\n",
       "    </tr>\n",
       "  </thead>\n",
       "  <tbody>\n",
       "    <tr>\n",
       "      <th>0</th>\n",
       "      <td>3</td>\n",
       "      <td>Heathrow</td>\n",
       "      <td>EGLL</td>\n",
       "    </tr>\n",
       "    <tr>\n",
       "      <th>1</th>\n",
       "      <td>3</td>\n",
       "      <td>Gatwick</td>\n",
       "      <td>EGKK</td>\n",
       "    </tr>\n",
       "    <tr>\n",
       "      <th>2</th>\n",
       "      <td>3</td>\n",
       "      <td>Luton</td>\n",
       "      <td>EGGW</td>\n",
       "    </tr>\n",
       "    <tr>\n",
       "      <th>3</th>\n",
       "      <td>3</td>\n",
       "      <td>Stansted</td>\n",
       "      <td>EGSS</td>\n",
       "    </tr>\n",
       "    <tr>\n",
       "      <th>4</th>\n",
       "      <td>3</td>\n",
       "      <td>Southend</td>\n",
       "      <td>EGMC</td>\n",
       "    </tr>\n",
       "    <tr>\n",
       "      <th>5</th>\n",
       "      <td>1</td>\n",
       "      <td>Berlin Brandenburg Airport</td>\n",
       "      <td>EDDB</td>\n",
       "    </tr>\n",
       "    <tr>\n",
       "      <th>6</th>\n",
       "      <td>2</td>\n",
       "      <td>Hamburg Airport</td>\n",
       "      <td>EDDH</td>\n",
       "    </tr>\n",
       "    <tr>\n",
       "      <th>7</th>\n",
       "      <td>4</td>\n",
       "      <td>Manchester Airport</td>\n",
       "      <td>EGCC</td>\n",
       "    </tr>\n",
       "    <tr>\n",
       "      <th>8</th>\n",
       "      <td>5</td>\n",
       "      <td>Barcelona</td>\n",
       "      <td>LEBL</td>\n",
       "    </tr>\n",
       "  </tbody>\n",
       "</table>\n",
       "</div>"
      ],
      "text/plain": [
       "   city_id                     airport airport icao\n",
       "0        3                    Heathrow         EGLL\n",
       "1        3                     Gatwick         EGKK\n",
       "2        3                       Luton         EGGW\n",
       "3        3                    Stansted         EGSS\n",
       "4        3                    Southend         EGMC\n",
       "5        1  Berlin Brandenburg Airport         EDDB\n",
       "6        2             Hamburg Airport         EDDH\n",
       "7        4          Manchester Airport         EGCC\n",
       "8        5                   Barcelona         LEBL"
      ]
     },
     "execution_count": 7,
     "metadata": {},
     "output_type": "execute_result"
    }
   ],
   "source": [
    "airports"
   ]
  },
  {
   "cell_type": "code",
   "execution_count": 8,
   "id": "e3e8f3a0-9dcd-4693-aad5-af8f3ee92632",
   "metadata": {},
   "outputs": [],
   "source": [
    "#create connection to MySQL\n",
    "schema=\"gans\"\n",
    "host=\"127.0.0.1\"\n",
    "user=\"root\"\n",
    "password=\"LexiHarley0323\"\n",
    "port=3306\n",
    "con = f'mysql+pymysql://{user}:{password}@{host}:{port}/{schema}'"
   ]
  },
  {
   "cell_type": "code",
   "execution_count": 9,
   "id": "089059df-8ef1-41af-93c6-9a5e090feada",
   "metadata": {},
   "outputs": [
    {
     "data": {
      "text/plain": [
       "9"
      ]
     },
     "execution_count": 9,
     "metadata": {},
     "output_type": "execute_result"
    }
   ],
   "source": [
    "#create the airports table in MySQL\n",
    "airports.to_sql('airports', \n",
    "              if_exists='append', \n",
    "              con=con, \n",
    "              index=False)"
   ]
  },
  {
   "cell_type": "code",
   "execution_count": null,
   "id": "ee585af5-11e6-452f-b44b-b912b007bbb7",
   "metadata": {},
   "outputs": [],
   "source": []
  }
 ],
 "metadata": {
  "kernelspec": {
   "display_name": "Python 3 (ipykernel)",
   "language": "python",
   "name": "python3"
  },
  "language_info": {
   "codemirror_mode": {
    "name": "ipython",
    "version": 3
   },
   "file_extension": ".py",
   "mimetype": "text/x-python",
   "name": "python",
   "nbconvert_exporter": "python",
   "pygments_lexer": "ipython3",
   "version": "3.9.13"
  }
 },
 "nbformat": 4,
 "nbformat_minor": 5
}
