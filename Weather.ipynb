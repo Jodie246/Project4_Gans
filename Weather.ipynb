{
 "cells": [
  {
   "cell_type": "code",
   "execution_count": 40,
   "id": "dbd67e9f-05d1-483d-9ec7-4cb466b78bdf",
   "metadata": {},
   "outputs": [],
   "source": [
    "#import libraries \n",
    "from bs4 import BeautifulSoup as bs\n",
    "import pandas as pd\n",
    "import requests\n",
    "import json\n",
    "import datetime \n",
    "import sqlalchemy\n",
    "import random\n",
    "import numpy as np"
   ]
  },
  {
   "cell_type": "code",
   "execution_count": 41,
   "id": "6ceec38f-b590-49e0-b3c1-a73031645e60",
   "metadata": {},
   "outputs": [],
   "source": [
    "#import libraries \n",
    "from bs4 import BeautifulSoup as bs\n",
    "import requests\n",
    "import json\n",
    "\n",
    "#create function\n",
    "def get_weather(cities):\n",
    "    #set api key\n",
    "    api_key = \"56a8f02f74cf9d8370f9d4e0a58aa754\" \n",
    "       \n",
    "    #create the dataframe\n",
    "    weather_data = pd.DataFrame(columns=[\"city_id\", \"city_name\", \"date\", \"temperature\", \"weather\"])\n",
    "\n",
    "    #create a for loop to pull weather data for each city from the API\n",
    "    for city in cities:\n",
    "        url = f\"http://api.openweathermap.org/data/2.5/forecast?q={city}&appid={api_key}&units=metric\"\n",
    "        print(f\"Fetching data for {city}\")\n",
    "        weather = requests.get(url)\n",
    "\n",
    "        #Read and set as JSON\n",
    "        weather_json = weather.json()\n",
    "\n",
    "        #create a for loop to extract the data for each time slot in the forecast\n",
    "        for i in range(len(weather_json['list'])):\n",
    "            city_name = city\n",
    "            date = weather_json['list'][i]['dt_txt']\n",
    "            temp = weather_json['list'][i]['main']['temp']\n",
    "            weather_description = weather_json['list'][i]['weather'][0]['main']\n",
    "            \n",
    "\n",
    "            #append data to the DataFrame\n",
    "            weather_data = weather_data.append({\n",
    "                \"city_name\": city_name,\n",
    "                \"date\": date,\n",
    "                \"temperature\": temp,\n",
    "                \"weather\": weather_description\n",
    "            }, ignore_index=True)\n",
    "        \n",
    "        #create a unique id for each city  \n",
    "        conditions = [\n",
    "            (weather_data['city_name'] == 'Berlin'),\n",
    "            (weather_data['city_name'] == 'Hamburg'),\n",
    "            (weather_data['city_name'] == 'London'),\n",
    "            (weather_data['city_name'] == 'Manchester'),\n",
    "            (weather_data['city_name'] == 'Barcelona')\n",
    "        ]\n",
    "\n",
    "        values = [1, 2, 3,4,5]\n",
    "        weather_data['city_id'] = np.select(conditions, values, default=None)\n",
    "        \n",
    "    #drop the city_name column   \n",
    "    weather_data = weather_data.drop(columns=['city_name'])\n",
    "    \n",
    "    #update the data format\n",
    "    weather_data[\"date\"] = pd.to_datetime(weather_data['date'])\n",
    "        \n",
    "    return weather_data\n",
    "\n",
    "#set required cities\n",
    "cities = [\"Hamburg\", \"Barcelona\", \"London\", \"Manchester\", \"Berlin\"]"
   ]
  },
  {
   "cell_type": "code",
   "execution_count": 42,
   "id": "1eddda05-c2aa-4b03-b0bc-1b74e751c1a1",
   "metadata": {},
   "outputs": [
    {
     "data": {
      "text/plain": [
       "dict_keys(['cod', 'message', 'cnt', 'list', 'city'])"
      ]
     },
     "execution_count": 42,
     "metadata": {},
     "output_type": "execute_result"
    }
   ],
   "source": [
    "city = \"Berlin\"\n",
    "api_key = \"56a8f02f74cf9d8370f9d4e0a58aa754\"\n",
    "url = f\"http://api.openweathermap.org/data/2.5/forecast?q={city}&appid={api_key}&units=metric\"\n",
    "weather = requests.get(url)\n",
    "weather_json = weather.json()\n",
    "weather_json.keys()"
   ]
  },
  {
   "cell_type": "code",
   "execution_count": 43,
   "id": "dab91892-53f6-4896-989e-e0d934ac402d",
   "metadata": {},
   "outputs": [
    {
     "ename": "NameError",
     "evalue": "name 'weather_data' is not defined",
     "output_type": "error",
     "traceback": [
      "\u001b[1;31m---------------------------------------------------------------------------\u001b[0m",
      "\u001b[1;31mNameError\u001b[0m                                 Traceback (most recent call last)",
      "\u001b[1;32m~\\AppData\\Local\\Temp\\ipykernel_29440\\3985495151.py\u001b[0m in \u001b[0;36m<module>\u001b[1;34m\u001b[0m\n\u001b[1;32m----> 1\u001b[1;33m \u001b[0mweather_data\u001b[0m\u001b[1;33m\u001b[0m\u001b[1;33m\u001b[0m\u001b[0m\n\u001b[0m",
      "\u001b[1;31mNameError\u001b[0m: name 'weather_data' is not defined"
     ]
    }
   ],
   "source": [
    "weather_data"
   ]
  },
  {
   "cell_type": "code",
   "execution_count": 24,
   "id": "98d7fb27-033d-4737-af0d-867d0eec8a1a",
   "metadata": {},
   "outputs": [
    {
     "name": "stdout",
     "output_type": "stream",
     "text": [
      "Fetching data for Berlin\n"
     ]
    },
    {
     "data": {
      "text/plain": [
       "dict_keys(['cod', 'message', 'cnt', 'list', 'city'])"
      ]
     },
     "execution_count": 24,
     "metadata": {},
     "output_type": "execute_result"
    }
   ],
   "source": [
    "city = \"Berlin\"\n",
    "api_key = \"56a8f02f74cf9d8370f9d4e0a58aa754\"\n",
    "url = f\"http://api.openweathermap.org/data/2.5/forecast?q={city}&appid={api_key}&units=metric\"\n",
    "print(f\"Fetching data for {city}\")\n",
    "weather = requests.get(url)\n",
    "weather_json = weather.json()\n",
    "weather_json.keys()"
   ]
  },
  {
   "cell_type": "code",
   "execution_count": 39,
   "id": "07bd6932-35a8-43fd-a385-f6cf76a21122",
   "metadata": {},
   "outputs": [
    {
     "ename": "NameError",
     "evalue": "name 'weather_data' is not defined",
     "output_type": "error",
     "traceback": [
      "\u001b[1;31m---------------------------------------------------------------------------\u001b[0m",
      "\u001b[1;31mNameError\u001b[0m                                 Traceback (most recent call last)",
      "\u001b[1;32m~\\AppData\\Local\\Temp\\ipykernel_29440\\2166321242.py\u001b[0m in \u001b[0;36m<module>\u001b[1;34m\u001b[0m\n\u001b[1;32m----> 1\u001b[1;33m \u001b[0mweather_data\u001b[0m\u001b[1;33m.\u001b[0m\u001b[0minfo\u001b[0m\u001b[1;33m(\u001b[0m\u001b[1;33m)\u001b[0m\u001b[1;33m\u001b[0m\u001b[1;33m\u001b[0m\u001b[0m\n\u001b[0m",
      "\u001b[1;31mNameError\u001b[0m: name 'weather_data' is not defined"
     ]
    }
   ],
   "source": [
    "weather_data.info()"
   ]
  },
  {
   "cell_type": "code",
   "execution_count": 5,
   "id": "0d63a560-9bb8-409a-ab84-c725bca636c9",
   "metadata": {},
   "outputs": [],
   "source": [
    "#create connection to MySQL\n",
    "schema=\"gans\" \n",
    "host=\"127.0.0.1\"\n",
    "user=\"root\"\n",
    "password=\"LexiHarley0323\"\n",
    "port=3306\n",
    "con = f'mysql+pymysql://{user}:{password}@{host}:{port}/{schema}'"
   ]
  },
  {
   "cell_type": "code",
   "execution_count": 6,
   "id": "b30786b3-1524-4e84-ab82-231d2554d8b3",
   "metadata": {},
   "outputs": [
    {
     "data": {
      "text/plain": [
       "200"
      ]
     },
     "execution_count": 6,
     "metadata": {},
     "output_type": "execute_result"
    }
   ],
   "source": [
    "#create the weather_data table in MySQL\n",
    "weather_data.to_sql('weather', \n",
    "              if_exists='append', \n",
    "              con=con, \n",
    "              index=False)"
   ]
  },
  {
   "cell_type": "code",
   "execution_count": null,
   "id": "dcef79c0-26ff-4ca4-a5e8-196603a36e67",
   "metadata": {},
   "outputs": [],
   "source": []
  }
 ],
 "metadata": {
  "kernelspec": {
   "display_name": "Python 3 (ipykernel)",
   "language": "python",
   "name": "python3"
  },
  "language_info": {
   "codemirror_mode": {
    "name": "ipython",
    "version": 3
   },
   "file_extension": ".py",
   "mimetype": "text/x-python",
   "name": "python",
   "nbconvert_exporter": "python",
   "pygments_lexer": "ipython3",
   "version": "3.9.13"
  },
  "toc-autonumbering": true
 },
 "nbformat": 4,
 "nbformat_minor": 5
}
